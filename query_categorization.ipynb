import re
import logging

logging.basicConfig(level=logging.INFO)

# Function to identify the category of a query
def identify_query_category(query):
    if re.search(r'\b(order|shipping|delivered)\b', query, re.IGNORECASE):
        return 'after_purchase'
    elif re.search(r'\b(club|points|redeem)\b', query, re.IGNORECASE):
        return 'club_matas'
    else:
        return 'general'
