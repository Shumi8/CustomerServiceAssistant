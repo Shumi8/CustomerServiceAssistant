from selenium import webdriver
from selenium.webdriver.chrome.options import Options
import logging

logging.basicConfig(level=logging.INFO)

# Function to initialize the Chrome WebDriver
def get_chrome_driver():
    try:
        logging.info("Opening Chrome Driver")
        user_agent = "Mozilla/5.0 (Windows NT 10.0; Win64; x64) AppleWebKit/537.36 (KHTML, like Gecko) Chrome/114.0.5735.198 Safari/537.36"

        chrome_options = Options()
        chrome_options.add_argument("--headless")
        chrome_options.add_argument("--no-sandbox")
        chrome_options.add_argument("--disable-dev-shm-usage")
        chrome_options.add_argument(f"user-agent={user_agent}")

        return webdriver.Chrome(options=chrome_options)
    
    except Exception as e:
        logging.error(f"Error initializing Chrome driver: {e}")
        raise
