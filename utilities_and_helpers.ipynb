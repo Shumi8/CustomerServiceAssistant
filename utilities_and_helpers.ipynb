import logging

logging.basicConfig(level=logging.INFO)

# Utility function to log error messages
def log_error(message):
    logging.error(f"Error: {message}")

# Utility function to log information
def log_info(message):
    logging.info(f"Info: {message}")
